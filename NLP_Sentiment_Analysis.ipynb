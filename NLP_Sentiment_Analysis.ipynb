{
 "cells": [
  {
   "cell_type": "code",
   "execution_count": 1,
   "id": "6e2abfa9",
   "metadata": {},
   "outputs": [
    {
     "data": {
      "text/html": [
       "<div>\n",
       "<style scoped>\n",
       "    .dataframe tbody tr th:only-of-type {\n",
       "        vertical-align: middle;\n",
       "    }\n",
       "\n",
       "    .dataframe tbody tr th {\n",
       "        vertical-align: top;\n",
       "    }\n",
       "\n",
       "    .dataframe thead th {\n",
       "        text-align: right;\n",
       "    }\n",
       "</style>\n",
       "<table border=\"1\" class=\"dataframe\">\n",
       "  <thead>\n",
       "    <tr style=\"text-align: right;\">\n",
       "      <th></th>\n",
       "      <th>review</th>\n",
       "      <th>sentiment</th>\n",
       "    </tr>\n",
       "  </thead>\n",
       "  <tbody>\n",
       "    <tr>\n",
       "      <th>0</th>\n",
       "      <td>One of the other reviewers has mentioned that ...</td>\n",
       "      <td>positive</td>\n",
       "    </tr>\n",
       "    <tr>\n",
       "      <th>1</th>\n",
       "      <td>A wonderful little production. &lt;br /&gt;&lt;br /&gt;The...</td>\n",
       "      <td>positive</td>\n",
       "    </tr>\n",
       "    <tr>\n",
       "      <th>2</th>\n",
       "      <td>I thought this was a wonderful way to spend ti...</td>\n",
       "      <td>positive</td>\n",
       "    </tr>\n",
       "    <tr>\n",
       "      <th>3</th>\n",
       "      <td>Basically there's a family where a little boy ...</td>\n",
       "      <td>negative</td>\n",
       "    </tr>\n",
       "    <tr>\n",
       "      <th>4</th>\n",
       "      <td>Petter Mattei's \"Love in the Time of Money\" is...</td>\n",
       "      <td>positive</td>\n",
       "    </tr>\n",
       "  </tbody>\n",
       "</table>\n",
       "</div>"
      ],
      "text/plain": [
       "                                              review sentiment\n",
       "0  One of the other reviewers has mentioned that ...  positive\n",
       "1  A wonderful little production. <br /><br />The...  positive\n",
       "2  I thought this was a wonderful way to spend ti...  positive\n",
       "3  Basically there's a family where a little boy ...  negative\n",
       "4  Petter Mattei's \"Love in the Time of Money\" is...  positive"
      ]
     },
     "execution_count": 1,
     "metadata": {},
     "output_type": "execute_result"
    }
   ],
   "source": [
    "import pandas as pd\n",
    "\n",
    "#Load dataset \n",
    "df = pd.read_csv(r\"D:\\Movie Review Sentiment Analysis!!!!!!!!!!!!!!! NLP project and i learning\\IMDB Dataset.csv.zip\")\n",
    "\n",
    "#Show first few rows\n",
    "df.head()"
   ]
  },
  {
   "cell_type": "code",
   "execution_count": 2,
   "id": "9b5c0187",
   "metadata": {},
   "outputs": [
    {
     "data": {
      "text/html": [
       "<div>\n",
       "<style scoped>\n",
       "    .dataframe tbody tr th:only-of-type {\n",
       "        vertical-align: middle;\n",
       "    }\n",
       "\n",
       "    .dataframe tbody tr th {\n",
       "        vertical-align: top;\n",
       "    }\n",
       "\n",
       "    .dataframe thead th {\n",
       "        text-align: right;\n",
       "    }\n",
       "</style>\n",
       "<table border=\"1\" class=\"dataframe\">\n",
       "  <thead>\n",
       "    <tr style=\"text-align: right;\">\n",
       "      <th></th>\n",
       "      <th>review</th>\n",
       "      <th>clean_review</th>\n",
       "    </tr>\n",
       "  </thead>\n",
       "  <tbody>\n",
       "    <tr>\n",
       "      <th>0</th>\n",
       "      <td>One of the other reviewers has mentioned that ...</td>\n",
       "      <td>one of the other reviewers has mentioned that ...</td>\n",
       "    </tr>\n",
       "    <tr>\n",
       "      <th>1</th>\n",
       "      <td>A wonderful little production. &lt;br /&gt;&lt;br /&gt;The...</td>\n",
       "      <td>a wonderful little production the filming tech...</td>\n",
       "    </tr>\n",
       "    <tr>\n",
       "      <th>2</th>\n",
       "      <td>I thought this was a wonderful way to spend ti...</td>\n",
       "      <td>i thought this was a wonderful way to spend ti...</td>\n",
       "    </tr>\n",
       "    <tr>\n",
       "      <th>3</th>\n",
       "      <td>Basically there's a family where a little boy ...</td>\n",
       "      <td>basically theres a family where a little boy j...</td>\n",
       "    </tr>\n",
       "    <tr>\n",
       "      <th>4</th>\n",
       "      <td>Petter Mattei's \"Love in the Time of Money\" is...</td>\n",
       "      <td>petter matteis love in the time of money is a ...</td>\n",
       "    </tr>\n",
       "  </tbody>\n",
       "</table>\n",
       "</div>"
      ],
      "text/plain": [
       "                                              review  \\\n",
       "0  One of the other reviewers has mentioned that ...   \n",
       "1  A wonderful little production. <br /><br />The...   \n",
       "2  I thought this was a wonderful way to spend ti...   \n",
       "3  Basically there's a family where a little boy ...   \n",
       "4  Petter Mattei's \"Love in the Time of Money\" is...   \n",
       "\n",
       "                                        clean_review  \n",
       "0  one of the other reviewers has mentioned that ...  \n",
       "1  a wonderful little production the filming tech...  \n",
       "2  i thought this was a wonderful way to spend ti...  \n",
       "3  basically theres a family where a little boy j...  \n",
       "4  petter matteis love in the time of money is a ...  "
      ]
     },
     "execution_count": 2,
     "metadata": {},
     "output_type": "execute_result"
    }
   ],
   "source": [
    "import re\n",
    "\n",
    "def clean_text(text):\n",
    "    #Remove HTML tags\n",
    "    text = re.sub(r'<.*?>', '', text)\n",
    "    \n",
    "    #convert to Lowercase\n",
    "    text = text.lower()\n",
    "    \n",
    "    #Remove punctuation numbers and special characters\n",
    "    text = re.sub(r'[^a-zA-Z\\s]', '', text)\n",
    "    \n",
    "    #Remove extra spaces \n",
    "    text = re.sub(r'\\s+', ' ', text).strip()\n",
    "    \n",
    "    return text\n",
    "\n",
    "#Apply to the dataset\n",
    "df['clean_review'] = df['review'].apply(clean_text)\n",
    "\n",
    "#Show first few rows\n",
    "df[[\"review\", \"clean_review\"]].head()\n"
   ]
  },
  {
   "cell_type": "code",
   "execution_count": 6,
   "id": "0b3384bc",
   "metadata": {},
   "outputs": [],
   "source": [
    "import nltk"
   ]
  },
  {
   "cell_type": "code",
   "execution_count": 7,
   "id": "8dc01dd0",
   "metadata": {},
   "outputs": [
    {
     "name": "stderr",
     "output_type": "stream",
     "text": [
      "[nltk_data] Downloading package punkt to C:\\Users\\ABDULLAH AL\n",
      "[nltk_data]     MAHMUD\\AppData\\Roaming\\nltk_data...\n",
      "[nltk_data]   Unzipping tokenizers\\punkt.zip.\n",
      "[nltk_data] Downloading package wordnet to C:\\Users\\ABDULLAH AL\n",
      "[nltk_data]     MAHMUD\\AppData\\Roaming\\nltk_data...\n",
      "[nltk_data] Downloading package stopwords to C:\\Users\\ABDULLAH AL\n",
      "[nltk_data]     MAHMUD\\AppData\\Roaming\\nltk_data...\n",
      "[nltk_data]   Unzipping corpora\\stopwords.zip.\n",
      "[nltk_data] Downloading package punkt_tab to C:\\Users\\ABDULLAH AL\n",
      "[nltk_data]     MAHMUD\\AppData\\Roaming\\nltk_data...\n",
      "[nltk_data]   Unzipping tokenizers\\punkt_tab.zip.\n"
     ]
    },
    {
     "data": {
      "text/plain": [
       "True"
      ]
     },
     "execution_count": 7,
     "metadata": {},
     "output_type": "execute_result"
    }
   ],
   "source": [
    "# First remove any potentially corrupted downloads\n",
    "nltk.download('punkt', force=True)\n",
    "nltk.download('wordnet', force=True)\n",
    "nltk.download('stopwords', force=True)\n",
    "nltk.download('punkt_tab', force=True)  # Specifically download punkt_tab"
   ]
  },
  {
   "cell_type": "code",
   "execution_count": 3,
   "id": "b750aa41",
   "metadata": {},
   "outputs": [],
   "source": [
    "import nltk\n",
    "from nltk.corpus import stopwords\n",
    "from nltk.stem import WordNetLemmatizer\n",
    "from nltk.tokenize import word_tokenize\n"
   ]
  },
  {
   "cell_type": "code",
   "execution_count": 8,
   "id": "b9526160",
   "metadata": {},
   "outputs": [
    {
     "data": {
      "text/html": [
       "<div>\n",
       "<style scoped>\n",
       "    .dataframe tbody tr th:only-of-type {\n",
       "        vertical-align: middle;\n",
       "    }\n",
       "\n",
       "    .dataframe tbody tr th {\n",
       "        vertical-align: top;\n",
       "    }\n",
       "\n",
       "    .dataframe thead th {\n",
       "        text-align: right;\n",
       "    }\n",
       "</style>\n",
       "<table border=\"1\" class=\"dataframe\">\n",
       "  <thead>\n",
       "    <tr style=\"text-align: right;\">\n",
       "      <th></th>\n",
       "      <th>clean_review</th>\n",
       "      <th>processed_review</th>\n",
       "    </tr>\n",
       "  </thead>\n",
       "  <tbody>\n",
       "    <tr>\n",
       "      <th>0</th>\n",
       "      <td>one of the other reviewers has mentioned that ...</td>\n",
       "      <td>one reviewer mentioned watching oz episode you...</td>\n",
       "    </tr>\n",
       "    <tr>\n",
       "      <th>1</th>\n",
       "      <td>a wonderful little production the filming tech...</td>\n",
       "      <td>wonderful little production filming technique ...</td>\n",
       "    </tr>\n",
       "    <tr>\n",
       "      <th>2</th>\n",
       "      <td>i thought this was a wonderful way to spend ti...</td>\n",
       "      <td>thought wonderful way spend time hot summer we...</td>\n",
       "    </tr>\n",
       "    <tr>\n",
       "      <th>3</th>\n",
       "      <td>basically theres a family where a little boy j...</td>\n",
       "      <td>basically there family little boy jake think t...</td>\n",
       "    </tr>\n",
       "    <tr>\n",
       "      <th>4</th>\n",
       "      <td>petter matteis love in the time of money is a ...</td>\n",
       "      <td>petter matteis love time money visually stunni...</td>\n",
       "    </tr>\n",
       "  </tbody>\n",
       "</table>\n",
       "</div>"
      ],
      "text/plain": [
       "                                        clean_review  \\\n",
       "0  one of the other reviewers has mentioned that ...   \n",
       "1  a wonderful little production the filming tech...   \n",
       "2  i thought this was a wonderful way to spend ti...   \n",
       "3  basically theres a family where a little boy j...   \n",
       "4  petter matteis love in the time of money is a ...   \n",
       "\n",
       "                                    processed_review  \n",
       "0  one reviewer mentioned watching oz episode you...  \n",
       "1  wonderful little production filming technique ...  \n",
       "2  thought wonderful way spend time hot summer we...  \n",
       "3  basically there family little boy jake think t...  \n",
       "4  petter matteis love time money visually stunni...  "
      ]
     },
     "execution_count": 8,
     "metadata": {},
     "output_type": "execute_result"
    }
   ],
   "source": [
    "#Initialize Lemmatizer\n",
    "lemmatizer = WordNetLemmatizer()\n",
    "stop_words = set(stopwords.words('english'))\n",
    "\n",
    "def preprocess_text(text):\n",
    "    #Tokenize the text\n",
    "    tokens = word_tokenize(text)\n",
    "    \n",
    "    #Remove stop words and Lemmatize\n",
    "    cleaned_tokens = [lemmatizer.lemmatize(word) for word in tokens if word not in stop_words]\n",
    "    \n",
    "    #Join tokens back to string\n",
    "    return ' '.join(cleaned_tokens)\n",
    "\n",
    "#Apply to the dataset \n",
    "df['processed_review'] = df['clean_review'].apply(preprocess_text)\n",
    "\n",
    "#Show first few rows\n",
    "df[['clean_review', 'processed_review']].head()\n"
   ]
  },
  {
   "cell_type": "code",
   "execution_count": 9,
   "id": "49352dc3",
   "metadata": {},
   "outputs": [
    {
     "name": "stdout",
     "output_type": "stream",
     "text": [
      "Feature shape: (50000, 5000)\n"
     ]
    }
   ],
   "source": [
    "from sklearn.feature_extraction.text import CountVectorizer\n",
    "\n",
    "#create countvectorizer object\n",
    "vectorizer = CountVectorizer(max_features=5000) #limit to 5000 featurus\n",
    "\n",
    "#Fit and transform text data\n",
    "x = vectorizer.fit_transform(df['processed_review']).toarray()\n",
    "\n",
    "#labels \n",
    "y = df['sentiment'].map({'positive':1, 'negative':0}) #Label encoding\n",
    "\n",
    "print(\"Feature shape:\", x.shape)"
   ]
  },
  {
   "cell_type": "code",
   "execution_count": 10,
   "id": "54002690",
   "metadata": {},
   "outputs": [
    {
     "name": "stdout",
     "output_type": "stream",
     "text": [
      "['aaron' 'abandoned' 'abc' 'ability' 'able' 'abrupt' 'absence' 'absent'\n",
      " 'absolute' 'absolutely']\n",
      "[0 0 0 ... 0 0 0]\n"
     ]
    }
   ],
   "source": [
    "print(vectorizer.get_feature_names_out()[:10]) #show first 10 features\n",
    "print(x[0]) #first review feature vector"
   ]
  },
  {
   "cell_type": "code",
   "execution_count": 11,
   "id": "2da76982",
   "metadata": {},
   "outputs": [
    {
     "name": "stdout",
     "output_type": "stream",
     "text": [
      "Accuracy: 0.8712\n",
      "\n",
      "Classification Report: \n",
      "               precision    recall  f1-score   support\n",
      "\n",
      "           0       0.87      0.87      0.87      4961\n",
      "           1       0.87      0.88      0.87      5039\n",
      "\n",
      "    accuracy                           0.87     10000\n",
      "   macro avg       0.87      0.87      0.87     10000\n",
      "weighted avg       0.87      0.87      0.87     10000\n",
      "\n",
      "\n",
      "Confusion Matrix:\n",
      " [[4292  669]\n",
      " [ 619 4420]]\n"
     ]
    }
   ],
   "source": [
    "from sklearn.model_selection import train_test_split\n",
    "from sklearn.linear_model import LogisticRegression\n",
    "from sklearn.metrics import accuracy_score, classification_report, confusion_matrix\n",
    "\n",
    "#Train-test split\n",
    "x_train, x_test, y_train, y_test = train_test_split(x,y, test_size=0.2, random_state=42)\n",
    "\n",
    "#Model definition & training\n",
    "model = LogisticRegression(max_iter=1000)\n",
    "model.fit(x_train, y_train)\n",
    "\n",
    "#Make predictions \n",
    "y_pred = model.predict(x_test)\n",
    "\n",
    "#Evaluation\n",
    "print(\"Accuracy:\", accuracy_score(y_test, y_pred))\n",
    "print(\"\\nClassification Report: \\n\", classification_report(y_test,y_pred))\n",
    "print(\"\\nConfusion Matrix:\\n\", confusion_matrix(y_test,y_pred))"
   ]
  },
  {
   "cell_type": "code",
   "execution_count": 12,
   "id": "f643cef9",
   "metadata": {},
   "outputs": [
    {
     "name": "stdout",
     "output_type": "stream",
     "text": [
      "Review:\n",
      "I really liked this Summerslam due to the look of the arena, the curtains and just the look overall was interesting to me for some reason. Anyways, this could have been one of the best Summerslam's ever if the WWF didn't have Lex Luger in the main event against Yokozuna, now for it's time it was ok to have a huge fat man vs a strong man but I'm glad times have changed. It was a terrible main event just like every match Luger is in is terrible. Other matches on the card were Razor Ramon vs Ted Dibiase, Steiner Brothers vs Heavenly Bodies, Shawn Michaels vs Curt Hening, this was the event where Shawn named his big monster of a body guard Diesel, IRS vs 1-2-3 Kid, Bret Hart first takes on Doink then takes on Jerry Lawler and stuff with the Harts and Lawler was always very interesting, then Ludvig Borga destroyed Marty Jannetty, Undertaker took on Giant Gonzalez in another terrible match, The Smoking Gunns and Tatanka took on Bam Bam Bigelow and the Headshrinkers, and Yokozuna defended the world title against Lex Luger this match was boring and it has a terrible ending. However it deserves 8/10\n",
      "True Sentiment: 1 | Predicted: 0\n",
      "--------------------------------------------------------------------------------\n",
      "Review:\n",
      "Three kids are born during a solar eclipse and turn into vile murderous little tykes who're above suspicion by everyone, save for Joyce (Lori Lethin) and her younger brother Timmy. That's the story in a nutshell. The acting in this one is tolerable for the most part. Notable for MTV-J Julie Brown (not the 'Downtown' one) showing some skin, and a very early part (albiet small) for Michael Dudikoff. Not a great film by any stretch of the imagination, but in the 'killer kids' sub-genre it's a bit of a guilty pleasure.<br /><br />Eye Candy: Julie Brown shows T&A (the only film thus far, to claim that honor); Sylvia Wright gets topless <br /><br />DVD Extras (R1): 16 minute interview with Producer Max Rosenberg (wherein he insults the director AND Canada, great stuff); Biography of Ed Hunt; and trailers for \"Kiss of the Taratula\", \"Don't open the Door\", & a red-band one for \"Homework\" (which features nudity) <br /><br />My Grade: B-\n",
      "True Sentiment: 1 | Predicted: 0\n",
      "--------------------------------------------------------------------------------\n",
      "Review:\n",
      "Eyeliner was worn nearly 6000 years ago in Egypt. Really not that much of a stretch for it to be around in the 12th century. I also didn't realize the series flopped. There is a second season airing now isn't there? It is amazing to me when commentaries are made by those who are either ill-informed or don't watch a show at all. It is a waste of space on the boards and of other's time. The first show of the series was maybe a bit painful as the cast began to fall into place, but that is to be expected from any show. The remainder of the first season is excellent. I can hardly wait for the second season to begin in the United States.\n",
      "True Sentiment: 1 | Predicted: 0\n",
      "--------------------------------------------------------------------------------\n",
      "Review:\n",
      "In fact, parts of it I liked a lot. It had some interesting twists. But it just left me with a been there, seen that feeling after all of the SAW movies. Granted the ending was different from a typical Saw, but let's face it...a group of guys, unknown to each other (or so they believe) tossed together in an abandoned chemical factory....<br /><br />But then it loses something. There's no intensity, there's poor group dynamic, there's no sense of urgency.<br /><br />Some nice twists at the end, and definitely worth a watch if there's nothing else on your plate, but it just left me empty...it passed the time, but it didn't satisfy.\n",
      "True Sentiment: 0 | Predicted: 1\n",
      "--------------------------------------------------------------------------------\n",
      "Review:\n",
      "OK, imagine that every state in the US, nay, every country has exactly the same trees growing and ground foliage. Imagine, also, that a monkey-trapper's camp so far off the beaten track you had to do the first half of the approach by river has a beautifully tarmac'd, perfectly straight road leading up to it. Imagine a world where you have to wear a full biohazard suit to collect a floppy disk, then you just drop it in a ziploc bag and transfer it to your pocket with no precautions as soon as you get back to the office. A world where two nine-year old girls are happy to give lots of blood without complaining. This is the world this movie is set in.<br /><br />On top of that, it's one of the most cliché-ridden pieces of excrement it's been my misfortune to witness in many a year.<br /><br />I liked it. :)\n",
      "True Sentiment: 0 | Predicted: 1\n",
      "--------------------------------------------------------------------------------\n"
     ]
    }
   ],
   "source": [
    "#import necessary lib\n",
    "import numpy as np\n",
    "\n",
    "#Create boolean mask where prediction is positive\n",
    "incorrect = np.where(y_pred != y_test)[0]\n",
    "\n",
    "# Convert X_test index back to dataframe index\n",
    "X_test_text = df.iloc[y_test.index]['review'].values\n",
    "\n",
    "# Show 5 misclassified examples\n",
    "for i in incorrect[:5]:\n",
    "    print(f\"Review:\\n{X_test_text[i]}\")\n",
    "    print(f\"True Sentiment: {y_test.values[i]} | Predicted: {y_pred[i]}\")\n",
    "    print('-'*80)"
   ]
  },
  {
   "cell_type": "code",
   "execution_count": 13,
   "id": "aefad372",
   "metadata": {},
   "outputs": [
    {
     "data": {
      "image/png": "[encoded data removed]",
      "text/plain": [
       "<Figure size 640x480 with 2 Axes>"
      ]
     },
     "metadata": {},
     "output_type": "display_data"
    }
   ],
   "source": [
    "import seaborn as sns\n",
    "import matplotlib.pyplot as plt\n",
    "from sklearn.metrics import ConfusionMatrixDisplay\n",
    "\n",
    "ConfusionMatrixDisplay.from_predictions(y_test, y_pred)\n",
    "plt.title(\"Confusion Matrix\")\n",
    "plt.show()\n"
   ]
  },
  {
   "cell_type": "code",
   "execution_count": 20,
   "id": "21865e0c",
   "metadata": {},
   "outputs": [
    {
     "name": "stdout",
     "output_type": "stream",
     "text": [
      "Positive 😊\n",
      "Negative 😞\n"
     ]
    }
   ],
   "source": [
    "def predict_sentiment(text):\n",
    "    # Clean the text (same as before)\n",
    "    cleaned = clean_text(text)\n",
    "    \n",
    "    # Preprocess (tokenize, remove stopwords, lemmatize)\n",
    "    processed = preprocess_text(cleaned)\n",
    "    \n",
    "    # Vectorize using the same vectorizer used in training\n",
    "    vectorized = vectorizer.transform([processed])\n",
    "    \n",
    "    # Predict\n",
    "    pred = model.predict(vectorized)[0]\n",
    "    \n",
    "    # Return result\n",
    "    return \"Positive 😊\" if pred == 1 else \"Negative 😞\"\n",
    "\n",
    "# Example usage:\n",
    "print(predict_sentiment(\"This movie was absolutely fantastic!\"))\n",
    "print(predict_sentiment(\"The plot was boring and too slow.\"))\n"
   ]
  },
  {
   "cell_type": "code",
   "execution_count": 21,
   "id": "b08f07fd",
   "metadata": {},
   "outputs": [
    {
     "name": "stdout",
     "output_type": "stream",
     "text": [
      "* Running on local URL:  http://127.0.0.1:7860\n",
      "* To create a public link, set `share=True` in `launch()`.\n"
     ]
    },
    {
     "data": {
      "text/html": [
       "<div><iframe src=\"http://127.0.0.1:7860/\" width=\"100%\" height=\"500\" allow=\"autoplay; camera; microphone; clipboard-read; clipboard-write;\" frameborder=\"0\" allowfullscreen></iframe></div>"
      ],
      "text/plain": [
       "<IPython.core.display.HTML object>"
      ]
     },
     "metadata": {},
     "output_type": "display_data"
    },
    {
     "data": {
      "text/plain": []
     },
     "execution_count": 21,
     "metadata": {},
     "output_type": "execute_result"
    }
   ],
   "source": [
    "import gradio as gr\n",
    "\n",
    "def predict_interface(text):\n",
    "    return predict_sentiment(text)\n",
    "\n",
    "interface = gr.Interface(fn=predict_interface,\n",
    "                         inputs=\"text\",\n",
    "                         outputs=\"text\",\n",
    "                         title=\"🎬 Movie Review Sentiment Classifier\",\n",
    "                         description=\"Type a movie review and get sentiment prediction (Positive/Negative)\")\n",
    "\n",
    "interface.launch()\n"
   ]
  }
 ],
 "metadata": {
  "kernelspec": {
   "display_name": "Python 3",
   "language": "python",
   "name": "python3"
  },
  "language_info": {
   "codemirror_mode": {
    "name": "ipython",
    "version": 3
   },
   "file_extension": ".py",
   "mimetype": "text/x-python",
   "name": "python",
   "nbconvert_exporter": "python",
   "pygments_lexer": "ipython3",
   "version": "3.12.4"
  }
 },
 "nbformat": 4,
 "nbformat_minor": 5
}
